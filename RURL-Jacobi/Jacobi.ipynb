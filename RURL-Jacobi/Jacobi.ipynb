{
 "cells": [
  {
   "attachments": {},
   "cell_type": "markdown",
   "metadata": {},
   "source": [
    "## Metoda Jacobiego"
   ]
  },
  {
   "cell_type": "code",
   "execution_count": 367,
   "metadata": {},
   "outputs": [],
   "source": [
    "f = open('MN-8.txt', 'r')\n",
    "for i, line in enumerate(f):\n",
    "    if i == 0:\n",
    "        size = int(line[0])\n",
    "        A = [[0 for x in range(size)] for y in range(size)]\n",
    "        B = [0 for x in range(size)]\n",
    "        FULL = [[0 for x in range(size+1)] for y in range(size)]\n",
    "    else:\n",
    "        for j in range(size):\n",
    "            A[i-1][j] = float(line.split()[j])\n",
    "            FULL[i-1][j] = float(line.split()[j])\n",
    "        B[i-1] = float(line.split()[size])\n",
    "f.close()"
   ]
  },
  {
   "attachments": {},
   "cell_type": "markdown",
   "metadata": {},
   "source": [
    "### L + U"
   ]
  },
  {
   "cell_type": "code",
   "execution_count": 368,
   "metadata": {},
   "outputs": [
    {
     "name": "stdout",
     "output_type": "stream",
     "text": [
      "A\n",
      "8.0\t2.0\t2.0\t4.0\t\n",
      "2.0\t5.0\t1.0\t1.0\t\n",
      "0.0\t3.0\t4.0\t1.0\t\n",
      "-1.0\t-2.0\t1.0\t5.0\t\n",
      "\n",
      "LU\n",
      "0\t2.0\t2.0\t4.0\t\n",
      "2.0\t0\t1.0\t1.0\t\n",
      "0.0\t3.0\t0\t1.0\t\n",
      "-1.0\t-2.0\t1.0\t0\t\n"
     ]
    }
   ],
   "source": [
    "def makeLU(A, size):\n",
    "    LU = [[0 for x in range(size)] for y in range(size)]\n",
    "\n",
    "    for i in range(size):\n",
    "            for j in range(size):\n",
    "                if i == j:\n",
    "                    LU[i][j] = 0\n",
    "                else:\n",
    "                    LU[i][j] = A[i][j]\n",
    "    return LU\n",
    "\n",
    "LU = makeLU(A,size)\n",
    "print(\"A\")\n",
    "for i in range(size):\n",
    "    for j in range(size):\n",
    "        print(A[i][j],end=\"\\t\")\n",
    "    print()\n",
    "print(\"\\nLU\")\n",
    "for i in range(size):\n",
    "    for j in range(size):\n",
    "        print(LU[i][j],end=\"\\t\")\n",
    "    print()"
   ]
  },
  {
   "attachments": {},
   "cell_type": "markdown",
   "metadata": {},
   "source": [
    "### D - macierz diagonalna odwrotna (D^-1)"
   ]
  },
  {
   "cell_type": "code",
   "execution_count": 369,
   "metadata": {},
   "outputs": [
    {
     "name": "stdout",
     "output_type": "stream",
     "text": [
      "D\n",
      "0.125\t0\t0\t0\t\n",
      "0\t0.2\t0\t0\t\n",
      "0\t0\t0.25\t0\t\n",
      "0\t0\t0\t0.2\t\n"
     ]
    }
   ],
   "source": [
    "def makeD(A,size):\n",
    "    D = [[0 for x in range(size)] for y in range(size)]\n",
    "\n",
    "    for i in range(size):\n",
    "        D[i][i] = 1/float(A[i][i])\n",
    "    return D\n",
    "\n",
    "D = makeD(A, size)\n",
    "\n",
    "print(\"D\")\n",
    "for i in range(size):\n",
    "    for j in range(size):\n",
    "        print(D[i][j],end=\"\\t\")\n",
    "    print()"
   ]
  },
  {
   "attachments": {},
   "cell_type": "markdown",
   "metadata": {},
   "source": [
    "### Macierz diagonalnie słabo dominująca"
   ]
  },
  {
   "cell_type": "code",
   "execution_count": 370,
   "metadata": {},
   "outputs": [],
   "source": [
    "def diagDominant(A, size):\n",
    "    condition1 = True\n",
    "    condition2 = False\n",
    "    for i in range(size):\n",
    "        SUM = 0\n",
    "        for j in range(size):\n",
    "            if i != j:\n",
    "                SUM += float(abs(A[i][j]))\n",
    "        if abs(A[i][i]) < abs(SUM):\n",
    "            condition1 = False\n",
    "        if abs(A[i][i]) > abs(SUM):\n",
    "            condition2 = True\n",
    "\n",
    "    if condition1 and condition2:\n",
    "        print(\"Macierz jest diagonalnie słabo dominująca\")\n",
    "    else:\n",
    "        print(\"Macierz nie jest diagonalnie słabo dominująca\")\n"
   ]
  },
  {
   "cell_type": "code",
   "execution_count": 371,
   "metadata": {},
   "outputs": [],
   "source": [
    "def matrixMultiplyByScalar(Matrix, a):\n",
    "    resultMatrix = [[0 for x in range(size)] for y in range(size)]\n",
    "    for i in range(len(Matrix)):\n",
    "        for j in range(len(Matrix[i])):\n",
    "            resultMatrix[i][j] = Matrix[i][j] * a\n",
    "    return resultMatrix\n",
    "\n",
    "def matrixMultiplyByVector(Matrix, Vector):\n",
    "    resultMatrix = [0 for y in range(len(Matrix))]\n",
    "    for i in range(len(Matrix)):\n",
    "        for j in range(len(Vector)):\n",
    "            resultMatrix[i] += Matrix[i][j] * Vector[j]\n",
    "        resultMatrix[i] = resultMatrix[i]\n",
    "    return resultMatrix\n",
    "\n",
    "def sumTwoMatrix(Matrix1, Matrix2):\n",
    "    M = [[0 for x in range(len(Matrix1[0]))] for y in range(len(Matrix1))]\n",
    "    for i in range(len(Matrix1)):\n",
    "        for j in range(len(Matrix1[0])):\n",
    "            if i>=j:\n",
    "                M[i][j] = Matrix1[i][j]\n",
    "            else:\n",
    "                M[i][j] = Matrix2[i][j]\n",
    "    return M\n",
    "\n",
    "def sumTwoVector(Vector1, Vector2):\n",
    "    V = [0 for i in range(len(Vector1))]\n",
    "    for i in range(len(Vector1)):\n",
    "        V[i] = Vector1[i]+Vector2[i]\n",
    "    return V\n",
    "\n",
    "def subTwoVector(Vector1,Vector2):\n",
    "    V = [0 for i in range(len(Vector1))]\n",
    "    for i in range(len(Vector1)):\n",
    "        V[i] = abs(Vector1[i]-Vector2[i])\n",
    "    return V\n",
    "\n",
    "def printMatrix(Matrix):\n",
    "    for i in range(len(Matrix)):\n",
    "        for j in range(len(Matrix[i])):\n",
    "            print(Matrix[i][j],end=\"\\t\")\n",
    "        print()\n",
    "    print()\n",
    "\n",
    "def printVector(Vector):\n",
    "    for i in range(len(Vector)):\n",
    "        print(Vector[i], end=\"\\t\")\n",
    "    print()"
   ]
  },
  {
   "attachments": {},
   "cell_type": "markdown",
   "metadata": {},
   "source": [
    "### Zadanie 1."
   ]
  },
  {
   "cell_type": "code",
   "execution_count": 372,
   "metadata": {},
   "outputs": [],
   "source": [
    "def Jacobi(n, A, B, size):\n",
    "    X = [0 for x in range(size)]\n",
    "    LU = makeLU(A,size)\n",
    "    D = makeD(A,size)\n",
    "    for i in range(n):\n",
    "        Temp = matrixMultiplyByScalar(LU,-1)\n",
    "        Temp = matrixMultiplyByVector(Temp, X)\n",
    "        Temp = sumTwoVector(Temp, B)\n",
    "        X = matrixMultiplyByVector(D,Temp)\n",
    "    return X\n",
    "\n",
    "def JacobiOpis(n, A, B, size):\n",
    "    X = [0 for x in range(size)]\n",
    "    LU = makeLU(A,size)\n",
    "    D = makeD(A,size)\n",
    "    for i in range(n):\n",
    "        Temp = matrixMultiplyByScalar(LU,-1)\n",
    "        Temp = matrixMultiplyByVector(Temp, X)\n",
    "        Temp = sumTwoVector(Temp, B)\n",
    "        X = matrixMultiplyByVector(D,Temp)\n",
    "\n",
    "    print(\"Macierz rozszerzona\")\n",
    "    printMatrix(A)\n",
    "    diagDominant(A,size)\n",
    "\n",
    "    print(\"\\nMacierz L + U\")\n",
    "    printMatrix(LU)\n",
    "    print(\"\\nMacierz D^-1\")\n",
    "    printMatrix(D)\n",
    "    print(\"\\nIteracje: \",n)\n",
    "    printVector(X)\n",
    "    return X"
   ]
  },
  {
   "cell_type": "code",
   "execution_count": 373,
   "metadata": {},
   "outputs": [
    {
     "name": "stdout",
     "output_type": "stream",
     "text": [
      "Macierz rozszerzona\n",
      "8.0\t2.0\t2.0\t4.0\t\n",
      "2.0\t5.0\t1.0\t1.0\t\n",
      "0.0\t3.0\t4.0\t1.0\t\n",
      "-1.0\t-2.0\t1.0\t5.0\t\n",
      "\n",
      "Macierz jest diagonalnie słabo dominująca\n",
      "\n",
      "Macierz L + U\n",
      "0\t2.0\t2.0\t4.0\t\n",
      "2.0\t0\t1.0\t1.0\t\n",
      "0.0\t3.0\t0\t1.0\t\n",
      "-1.0\t-2.0\t1.0\t0\t\n",
      "\n",
      "\n",
      "Macierz D^-1\n",
      "0.125\t0\t0\t0\t\n",
      "0\t0.2\t0\t0\t\n",
      "0\t0\t0.25\t0\t\n",
      "0\t0\t0\t0.2\t\n",
      "\n",
      "\n",
      "Iteracje:  5\n",
      "0.28535000000000005\t-1.287795\t1.288675\t0.6924475\t\n"
     ]
    }
   ],
   "source": [
    "X = JacobiOpis(5, A, B, size)"
   ]
  },
  {
   "attachments": {},
   "cell_type": "markdown",
   "metadata": {},
   "source": [
    "### Zadanie 2."
   ]
  },
  {
   "cell_type": "code",
   "execution_count": 374,
   "metadata": {},
   "outputs": [
    {
     "name": "stdout",
     "output_type": "stream",
     "text": [
      "Warunek:\teps < 0.001\n",
      "\n",
      "Iteracje:  10\n",
      "\n",
      "Epsilon\n",
      "1.2934921875096261e-05\t0.0009957601124996884\t0.0004297181249999227\t0.00043590688750005935\t\n",
      "\n",
      "X\n",
      "0.28882055304687504\t-1.3127505718624999\t1.3162323646875\t0.6698990696124999\t\n",
      "Warunek:\teps < 1e-06\n",
      "\n",
      "Iteracje:  20\n",
      "\n",
      "Epsilon\n",
      "2.2710815628101955e-07\t5.054554141903367e-07\t7.035260489729467e-07\t4.7226929333898937e-07\t\n",
      "\n",
      "X\n",
      "0.289317186582153\t-1.3130560464418428\t1.3175065353906725\t0.6691400091273032\t\n"
     ]
    }
   ],
   "source": [
    "def stopCondition(con, A, B, size):\n",
    "    condition = True\n",
    "    X = [0 for x in range(size)]\n",
    "    LU = makeLU(A,size)\n",
    "    D = makeD(A,size)\n",
    "    iterations = 0\n",
    "    while condition:\n",
    "        temp = 0\n",
    "        Temp = matrixMultiplyByScalar(LU,-1)\n",
    "        Temp = matrixMultiplyByVector(Temp, X)\n",
    "        Temp = sumTwoVector(Temp, B)\n",
    "        newX = matrixMultiplyByVector(D,Temp)\n",
    "        Eps = subTwoVector(newX,X)\n",
    "        for i in range(len(Eps)):\n",
    "            if Eps[i]<con:\n",
    "                temp+=1\n",
    "        if temp == len(Eps):\n",
    "            condition = False\n",
    "        iterations += 1\n",
    "        X = newX\n",
    "    print(\"Warunek:\\teps <\",con)\n",
    "    print(\"\\nIteracje: \",iterations)\n",
    "    print(\"\\nEpsilon\")\n",
    "    printVector(Eps)\n",
    "    print(\"\\nX\")\n",
    "    printVector(X)\n",
    "\n",
    "\n",
    "stopCondition(0.001, A, B, size)\n",
    "stopCondition(0.000001, A, B, size)"
   ]
  }
 ],
 "metadata": {
  "kernelspec": {
   "display_name": "Python 3",
   "language": "python",
   "name": "python3"
  },
  "language_info": {
   "codemirror_mode": {
    "name": "ipython",
    "version": 3
   },
   "file_extension": ".py",
   "mimetype": "text/x-python",
   "name": "python",
   "nbconvert_exporter": "python",
   "pygments_lexer": "ipython3",
   "version": "3.11.1"
  },
  "orig_nbformat": 4
 },
 "nbformat": 4,
 "nbformat_minor": 2
}
